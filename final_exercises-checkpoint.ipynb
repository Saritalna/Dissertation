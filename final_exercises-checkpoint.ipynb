{
 "cells": [
  {
   "cell_type": "code",
   "execution_count": 1,
   "metadata": {},
   "outputs": [],
   "source": [
    "# inspect final data and fit it to classifier"
   ]
  },
  {
   "cell_type": "code",
   "execution_count": 2,
   "metadata": {},
   "outputs": [],
   "source": [
    "import pandas as pd\n",
    "\n",
    "from sklearn.tree import DecisionTreeClassifier\n",
    "from sklearn.model_selection import KFold\n",
    "from sklearn.model_selection import cross_validate"
   ]
  },
  {
   "cell_type": "code",
   "execution_count": 3,
   "metadata": {},
   "outputs": [],
   "source": [
    "clf = DecisionTreeClassifier(random_state=0)\n",
    "kf = KFold(n_splits=10, shuffle=True)"
   ]
  },
  {
   "cell_type": "code",
   "execution_count": 4,
   "metadata": {},
   "outputs": [
    {
     "data": {
      "text/html": [
       "<div>\n",
       "<style scoped>\n",
       "    .dataframe tbody tr th:only-of-type {\n",
       "        vertical-align: middle;\n",
       "    }\n",
       "\n",
       "    .dataframe tbody tr th {\n",
       "        vertical-align: top;\n",
       "    }\n",
       "\n",
       "    .dataframe thead th {\n",
       "        text-align: right;\n",
       "    }\n",
       "</style>\n",
       "<table border=\"1\" class=\"dataframe\">\n",
       "  <thead>\n",
       "    <tr style=\"text-align: right;\">\n",
       "      <th></th>\n",
       "      <th>text</th>\n",
       "      <th>ASL</th>\n",
       "      <th>AWL</th>\n",
       "      <th>class</th>\n",
       "      <th>text_pos</th>\n",
       "      <th>nouns</th>\n",
       "      <th>pronouns</th>\n",
       "    </tr>\n",
       "  </thead>\n",
       "  <tbody>\n",
       "    <tr>\n",
       "      <th>0</th>\n",
       "      <td>es una buena pieza</td>\n",
       "      <td>4.0</td>\n",
       "      <td>3.75</td>\n",
       "      <td>n</td>\n",
       "      <td>AUX DET ADJ NOUN</td>\n",
       "      <td>0.250000</td>\n",
       "      <td>0.000000</td>\n",
       "    </tr>\n",
       "    <tr>\n",
       "      <th>1</th>\n",
       "      <td>quiï¿½n lo habï¿½a de decir viï¿½ndola tan mor...</td>\n",
       "      <td>22.0</td>\n",
       "      <td>4.681818181818182</td>\n",
       "      <td>n</td>\n",
       "      <td>PRON PRON AUX ADP VERB NOUN ADV ADJ ADV ADJ AD...</td>\n",
       "      <td>0.227273</td>\n",
       "      <td>0.090909</td>\n",
       "    </tr>\n",
       "    <tr>\n",
       "      <th>2</th>\n",
       "      <td>pero la miseria todo lo corrompe y solita no h...</td>\n",
       "      <td>35.0</td>\n",
       "      <td>4.181818181818182</td>\n",
       "      <td>n</td>\n",
       "      <td>CONJ DET NOUN DET PRON VERB CONJ ADJ ADV AUX A...</td>\n",
       "      <td>0.228571</td>\n",
       "      <td>0.057143</td>\n",
       "    </tr>\n",
       "    <tr>\n",
       "      <th>3</th>\n",
       "      <td>justo castigo vive dios</td>\n",
       "      <td>4.0</td>\n",
       "      <td>5.0</td>\n",
       "      <td>n</td>\n",
       "      <td>ADJ NOUN VERB NOUN</td>\n",
       "      <td>0.500000</td>\n",
       "      <td>0.000000</td>\n",
       "    </tr>\n",
       "    <tr>\n",
       "      <th>4</th>\n",
       "      <td>de las ideas contrarias a la libertad de los p...</td>\n",
       "      <td>10.0</td>\n",
       "      <td>4.666666666666667</td>\n",
       "      <td>n</td>\n",
       "      <td>ADP DET NOUN ADJ ADP DET NOUN ADP DET NOUN</td>\n",
       "      <td>0.300000</td>\n",
       "      <td>0.000000</td>\n",
       "    </tr>\n",
       "  </tbody>\n",
       "</table>\n",
       "</div>"
      ],
      "text/plain": [
       "                                                text   ASL                AWL  \\\n",
       "0                                 es una buena pieza   4.0               3.75   \n",
       "1  quiï¿½n lo habï¿½a de decir viï¿½ndola tan mor...  22.0  4.681818181818182   \n",
       "2  pero la miseria todo lo corrompe y solita no h...  35.0  4.181818181818182   \n",
       "3                            justo castigo vive dios   4.0                5.0   \n",
       "4  de las ideas contrarias a la libertad de los p...  10.0  4.666666666666667   \n",
       "\n",
       "  class                                           text_pos     nouns  pronouns  \n",
       "0     n                                   AUX DET ADJ NOUN  0.250000  0.000000  \n",
       "1     n  PRON PRON AUX ADP VERB NOUN ADV ADJ ADV ADJ AD...  0.227273  0.090909  \n",
       "2     n  CONJ DET NOUN DET PRON VERB CONJ ADJ ADV AUX A...  0.228571  0.057143  \n",
       "3     n                                 ADJ NOUN VERB NOUN  0.500000  0.000000  \n",
       "4     n         ADP DET NOUN ADJ ADP DET NOUN ADP DET NOUN  0.300000  0.000000  "
      ]
     },
     "execution_count": 4,
     "metadata": {},
     "output_type": "execute_result"
    }
   ],
   "source": [
    "#4 clases - 25% vs 40%\n",
    "df = pd.read_csv('AWLASL.csv', sep=\",\", encoding=\"Latin-1\")\n",
    "df.head()"
   ]
  },
  {
   "cell_type": "code",
   "execution_count": 5,
   "metadata": {},
   "outputs": [],
   "source": [
    "df.dropna(inplace=True)"
   ]
  },
  {
   "cell_type": "code",
   "execution_count": 9,
   "metadata": {},
   "outputs": [],
   "source": [
    "X = df[['nouns', 'pronouns', 'AWL', 'ASL']].values\n",
    "Y = df['class'].values"
   ]
  },
  {
   "cell_type": "code",
   "execution_count": 7,
   "metadata": {},
   "outputs": [
    {
     "name": "stdout",
     "output_type": "stream",
     "text": [
      "{'fit_time': array([0.02191591, 0.02094364, 0.02094412, 0.01894879, 0.01994634,\n",
      "       0.02094412, 0.01994658, 0.02094412, 0.02094388, 0.02094388]), 'score_time': array([0.00099778, 0.00099802, 0.00099778, 0.00099754, 0.00099802,\n",
      "       0.00099778, 0.00099778, 0.00099802, 0.00099802, 0.00099778]), 'test_score': array([0.3618677 , 0.39169909, 0.34675325, 0.33550065, 0.36150845,\n",
      "       0.33029909, 0.33723958, 0.39192708, 0.33854167, 0.33637549]), 'train_score': array([0.91660645, 0.92209857, 0.92312139, 0.91879786, 0.91764196,\n",
      "       0.91850889, 0.92112106, 0.91635366, 0.91548685, 0.91448794])}\n"
     ]
    }
   ],
   "source": [
    "cv_results = cross_validate(clf, X, Y, cv=10)"
   ]
  },
  {
   "cell_type": "code",
   "execution_count": 8,
   "metadata": {},
   "outputs": [
    {
     "name": "stdout",
     "output_type": "stream",
     "text": [
      "{'fit_time': array([0.02191591, 0.02094364, 0.02094412, 0.01894879, 0.01994634,\n",
      "       0.02094412, 0.01994658, 0.02094412, 0.02094388, 0.02094388]), 'score_time': array([0.00099778, 0.00099802, 0.00099778, 0.00099754, 0.00099802,\n",
      "       0.00099778, 0.00099778, 0.00099802, 0.00099802, 0.00099778]), 'test_score': array([0.3618677 , 0.39169909, 0.34675325, 0.33550065, 0.36150845,\n",
      "       0.33029909, 0.33723958, 0.39192708, 0.33854167, 0.33637549]), 'train_score': array([0.91660645, 0.92209857, 0.92312139, 0.91879786, 0.91764196,\n",
      "       0.91850889, 0.92112106, 0.91635366, 0.91548685, 0.91448794])}\n"
     ]
    }
   ],
   "source": [
    "print(cv_results)"
   ]
  },
  {
   "cell_type": "code",
   "execution_count": 10,
   "metadata": {},
   "outputs": [
    {
     "data": {
      "text/plain": [
       "0.35317120578305317"
      ]
     },
     "execution_count": 10,
     "metadata": {},
     "output_type": "execute_result"
    }
   ],
   "source": [
    "cv_results[\"test_score\"].mean()"
   ]
  },
  {
   "cell_type": "code",
   "execution_count": null,
   "metadata": {},
   "outputs": [],
   "source": []
  }
 ],
 "metadata": {
  "kernelspec": {
   "display_name": "Python 3",
   "language": "python",
   "name": "python3"
  },
  "language_info": {
   "codemirror_mode": {
    "name": "ipython",
    "version": 3
   },
   "file_extension": ".py",
   "mimetype": "text/x-python",
   "name": "python",
   "nbconvert_exporter": "python",
   "pygments_lexer": "ipython3",
   "version": "3.6.7"
  }
 },
 "nbformat": 4,
 "nbformat_minor": 2
}
