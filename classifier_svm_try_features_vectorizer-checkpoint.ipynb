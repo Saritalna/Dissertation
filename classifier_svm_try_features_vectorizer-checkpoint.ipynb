{
 "cells": [
  {
   "cell_type": "code",
   "execution_count": 1,
   "metadata": {},
   "outputs": [],
   "source": [
    "\"\"\" Performing Classification analysis to a dataset of tweets. \"\"\"\n",
    "import numpy as np\n",
    "import pandas as pd\n",
    "# For sentiment analysis\n",
    "from textblob import TextBlob\n",
    "import matplotlib.pyplot as plt\n",
    "# Train-test split\n",
    "from sklearn.model_selection import train_test_split\n",
    "# Import Naive Bayes\n",
    "from sklearn.naive_bayes import ComplementNB, MultinomialNB\n",
    "#import cross_validate\n",
    "from sklearn.model_selection import cross_validate"
   ]
  },
  {
   "cell_type": "code",
   "execution_count": 35,
   "metadata": {
    "scrolled": false
   },
   "outputs": [
    {
     "data": {
      "text/html": [
       "<div>\n",
       "<style scoped>\n",
       "    .dataframe tbody tr th:only-of-type {\n",
       "        vertical-align: middle;\n",
       "    }\n",
       "\n",
       "    .dataframe tbody tr th {\n",
       "        vertical-align: top;\n",
       "    }\n",
       "\n",
       "    .dataframe thead th {\n",
       "        text-align: right;\n",
       "    }\n",
       "</style>\n",
       "<table border=\"1\" class=\"dataframe\">\n",
       "  <thead>\n",
       "    <tr style=\"text-align: right;\">\n",
       "      <th></th>\n",
       "      <th>Unnamed: 0</th>\n",
       "      <th>processed</th>\n",
       "      <th>ASL</th>\n",
       "      <th>NoW</th>\n",
       "      <th>AWL</th>\n",
       "      <th>class</th>\n",
       "      <th>text_pos</th>\n",
       "      <th>hlr</th>\n",
       "      <th>ttr</th>\n",
       "      <th>nouns</th>\n",
       "      <th>pronouns</th>\n",
       "      <th>subordC</th>\n",
       "      <th>CoordC</th>\n",
       "    </tr>\n",
       "  </thead>\n",
       "  <tbody>\n",
       "    <tr>\n",
       "      <th>0</th>\n",
       "      <td>0</td>\n",
       "      <td>es una buena pieza</td>\n",
       "      <td>18</td>\n",
       "      <td>4</td>\n",
       "      <td>3.750000</td>\n",
       "      <td>novela</td>\n",
       "      <td>AUX DET ADJ NOUN</td>\n",
       "      <td>0.000000</td>\n",
       "      <td>0.003922</td>\n",
       "      <td>0.250000</td>\n",
       "      <td>0.000000</td>\n",
       "      <td>0.000000</td>\n",
       "      <td>0.000000</td>\n",
       "    </tr>\n",
       "    <tr>\n",
       "      <th>1</th>\n",
       "      <td>1</td>\n",
       "      <td>quiï¿½n lo habï¿½a de decir viï¿½ndola tan mor...</td>\n",
       "      <td>124</td>\n",
       "      <td>22</td>\n",
       "      <td>4.681818</td>\n",
       "      <td>novela</td>\n",
       "      <td>PRON PRON AUX ADP VERB NOUN ADV ADJ ADV ADJ AD...</td>\n",
       "      <td>0.003922</td>\n",
       "      <td>0.003922</td>\n",
       "      <td>0.227273</td>\n",
       "      <td>0.090909</td>\n",
       "      <td>0.045455</td>\n",
       "      <td>0.000000</td>\n",
       "    </tr>\n",
       "    <tr>\n",
       "      <th>2</th>\n",
       "      <td>2</td>\n",
       "      <td>pero la miseria todo lo corrompe y solita no h...</td>\n",
       "      <td>175</td>\n",
       "      <td>35</td>\n",
       "      <td>4.028571</td>\n",
       "      <td>novela</td>\n",
       "      <td>CONJ DET NOUN DET PRON VERB CONJ ADJ ADV AUX A...</td>\n",
       "      <td>0.000000</td>\n",
       "      <td>0.003922</td>\n",
       "      <td>0.228571</td>\n",
       "      <td>0.057143</td>\n",
       "      <td>0.000000</td>\n",
       "      <td>0.057143</td>\n",
       "    </tr>\n",
       "    <tr>\n",
       "      <th>3</th>\n",
       "      <td>3</td>\n",
       "      <td>justo castigo vive dios</td>\n",
       "      <td>23</td>\n",
       "      <td>4</td>\n",
       "      <td>5.000000</td>\n",
       "      <td>novela</td>\n",
       "      <td>ADJ NOUN VERB NOUN</td>\n",
       "      <td>0.000000</td>\n",
       "      <td>0.003922</td>\n",
       "      <td>0.500000</td>\n",
       "      <td>0.000000</td>\n",
       "      <td>0.000000</td>\n",
       "      <td>0.000000</td>\n",
       "    </tr>\n",
       "    <tr>\n",
       "      <th>4</th>\n",
       "      <td>4</td>\n",
       "      <td>de las ideas contrarias a la libertad de los p...</td>\n",
       "      <td>52</td>\n",
       "      <td>10</td>\n",
       "      <td>4.300000</td>\n",
       "      <td>novela</td>\n",
       "      <td>ADP DET NOUN ADJ ADP DET NOUN ADP DET NOUN</td>\n",
       "      <td>0.003922</td>\n",
       "      <td>0.003922</td>\n",
       "      <td>0.300000</td>\n",
       "      <td>0.000000</td>\n",
       "      <td>0.000000</td>\n",
       "      <td>0.000000</td>\n",
       "    </tr>\n",
       "  </tbody>\n",
       "</table>\n",
       "</div>"
      ],
      "text/plain": [
       "   Unnamed: 0                                          processed  ASL  NoW  \\\n",
       "0           0                                 es una buena pieza   18    4   \n",
       "1           1  quiï¿½n lo habï¿½a de decir viï¿½ndola tan mor...  124   22   \n",
       "2           2  pero la miseria todo lo corrompe y solita no h...  175   35   \n",
       "3           3                            justo castigo vive dios   23    4   \n",
       "4           4  de las ideas contrarias a la libertad de los p...   52   10   \n",
       "\n",
       "        AWL   class                                           text_pos  \\\n",
       "0  3.750000  novela                                   AUX DET ADJ NOUN   \n",
       "1  4.681818  novela  PRON PRON AUX ADP VERB NOUN ADV ADJ ADV ADJ AD...   \n",
       "2  4.028571  novela  CONJ DET NOUN DET PRON VERB CONJ ADJ ADV AUX A...   \n",
       "3  5.000000  novela                                 ADJ NOUN VERB NOUN   \n",
       "4  4.300000  novela         ADP DET NOUN ADJ ADP DET NOUN ADP DET NOUN   \n",
       "\n",
       "        hlr       ttr     nouns  pronouns   subordC    CoordC  \n",
       "0  0.000000  0.003922  0.250000  0.000000  0.000000  0.000000  \n",
       "1  0.003922  0.003922  0.227273  0.090909  0.045455  0.000000  \n",
       "2  0.000000  0.003922  0.228571  0.057143  0.000000  0.057143  \n",
       "3  0.000000  0.003922  0.500000  0.000000  0.000000  0.000000  \n",
       "4  0.003922  0.003922  0.300000  0.000000  0.000000  0.000000  "
      ]
     },
     "execution_count": 35,
     "metadata": {},
     "output_type": "execute_result"
    }
   ],
   "source": [
    "#4 clases - 25% vs 40%\n",
    "df = pd.read_csv('with_features.csv', sep=\",\", encoding=\"Latin-1\")\n",
    "df.head()\n",
    "# len(df)"
   ]
  },
  {
   "cell_type": "code",
   "execution_count": 3,
   "metadata": {},
   "outputs": [],
   "source": [
    "exchange = {\"n\": \"novela\", \"e\": \"ensayo\", \"t\": \"teatro\", \"r\": \"terror\"}"
   ]
  },
  {
   "cell_type": "code",
   "execution_count": 132,
   "metadata": {},
   "outputs": [],
   "source": [
    "def modify_input(x):\n",
    "    data = []\n",
    "    for text, text_pos, nouns, prons, asl, awl, now, hlr, ttr, sub, coord in x:\n",
    "        change = {t: p for t, p in zip(text.split(\" \"), text_pos.split(\" \"))}\n",
    "        \n",
    "        # change[\"nouns\"] = nouns\n",
    "        # change[\"pronouns\"] = prons\n",
    "        # change[\"ASL\"] = asl\n",
    "        # change[\"AWL\"] = awl\n",
    "        \n",
    "        # new features\n",
    "        change[\"NoW\"] = now\n",
    "        change[\"hlr\"] = hlr\n",
    "        change[\"ttr\"] = ttr\n",
    "        change[\"subordC\"] = sub\n",
    "        change[\"CoordC\"] = coord\n",
    "        \n",
    "        data.append(change)\n",
    "    \n",
    "    return np.array(data)"
   ]
  },
  {
   "cell_type": "code",
   "execution_count": 133,
   "metadata": {},
   "outputs": [],
   "source": [
    "X_ = df[[\"processed\"]].values.astype(str)\n",
    "X = X_\n",
    "\n",
    "# uncomment these lines to use text + text_pos as input\n",
    "X_ = df[[\"processed\", \"text_pos\", \"nouns\", \"pronouns\", \"ASL\", \"AWL\", \"NoW\", \"hlr\", \"ttr\", \"subordC\", \"CoordC\"]].values.astype(str)\n",
    "X = modify_input(X_)\n",
    "\n",
    "Y = df[\"class\"].values.astype(str)\n",
    "Y[Y == \"3\"] = \"r\""
   ]
  },
  {
   "cell_type": "code",
   "execution_count": 134,
   "metadata": {},
   "outputs": [
    {
     "name": "stdout",
     "output_type": "stream",
     "text": [
      "(5775,)\n",
      "(1925,)\n",
      "(5775,)\n",
      "(1925,)\n"
     ]
    }
   ],
   "source": [
    "x_train, x_test, y_train, y_test = train_test_split(X, Y, test_size=0.25, random_state=42, shuffle=True)\n",
    "\n",
    "# x_train, x_test = df[\"text\"].values.astype(str)[:int(0.7*len(X))], df[\"text\"].values.astype(str)[int(0.7*len(X)):]\n",
    "# y_train, y_test = df[\"class\"].values.astype(str)[:int(0.7*len(X))], df[\"class\"].values.astype(str)[int(0.7*len(X)):] \n",
    "# from sklearn.preprocessing import StandardScaler\n",
    "# scaler = StandardScaler()\n",
    "# \n",
    "# x_train_f, x_test_f = X[:int(0.7*len(X))], X[int(0.7*len(X)):]\n",
    "# \n",
    "# x_train_f = scaler.fit_transform(x_train_f)\n",
    "# x_test_f = scaler.fit_transform(x_test_f)\n",
    "\n",
    "print(x_train.shape)\n",
    "print(x_test.shape)\n",
    "print(y_train.shape)\n",
    "print(y_test.shape)"
   ]
  },
  {
   "cell_type": "code",
   "execution_count": 135,
   "metadata": {},
   "outputs": [
    {
     "data": {
      "text/plain": [
       "(5775, 23249)"
      ]
     },
     "execution_count": 135,
     "metadata": {},
     "output_type": "execute_result"
    }
   ],
   "source": [
    "from sklearn.feature_extraction.text import CountVectorizer\n",
    "from sklearn.feature_extraction import DictVectorizer\n",
    "\n",
    "count_vect = DictVectorizer()\n",
    "X_train_counts  = count_vect.fit_transform(x_train)\n",
    "\n",
    "# count_vect = CountVectorizer()# \n",
    "# X_train_counts = count_vect.fit_transform(x_train)\n",
    "X_train_counts.shape"
   ]
  },
  {
   "cell_type": "code",
   "execution_count": 136,
   "metadata": {},
   "outputs": [
    {
     "data": {
      "text/plain": [
       "(5775, 23249)"
      ]
     },
     "execution_count": 136,
     "metadata": {},
     "output_type": "execute_result"
    }
   ],
   "source": [
    "from sklearn.feature_extraction.text import TfidfTransformer\n",
    "\n",
    "tf_transformer = TfidfTransformer(use_idf=False).fit(X_train_counts)\n",
    "X_train_tf = tf_transformer.transform(X_train_counts)\n",
    "X_train_tf.shape\n",
    "\n",
    "tfidf_transformer = TfidfTransformer()\n",
    "X_train_tfidf = tfidf_transformer.fit_transform(X_train_counts)\n",
    "X_train_tfidf.shape"
   ]
  },
  {
   "cell_type": "code",
   "execution_count": 137,
   "metadata": {},
   "outputs": [],
   "source": [
    "# X_train_tfidf = np.concatenate((X_train_tfidf.toarray().reshape(X_train_tfidf.shape), x_train_f), axis=1)\n",
    "# X_new_tfidf = np.concatenate((X_new_tfidf.toarray().reshape(X_new_tfidf.shape), x_test_f), axis=1)\n",
    "\n",
    "# X_train_tfidf.shape"
   ]
  },
  {
   "cell_type": "code",
   "execution_count": 138,
   "metadata": {},
   "outputs": [],
   "source": [
    "from sklearn.naive_bayes import MultinomialNB\n",
    "from sklearn.linear_model import SGDClassifier\n",
    "from sklearn.linear_model import LogisticRegression\n",
    "from sklearn.tree import DecisionTreeClassifier\n",
    "\n",
    "# clf = LogisticRegression().fit(X_train_tfidf, y_train)\n",
    "clf = SGDClassifier().fit(X_train_tfidf, y_train)\n",
    "# clf = MultinomialNB().fit(X_train_tfidf, y_train)\n",
    "# clf = DecisionTreeClassifier(criterion=\"gini\").fit(X_train_tfidf, y_train)\n",
    "# clf = DecisionTreeClassifier(criterion=\"entropy\").fit(X_train_tfidf, y_train)"
   ]
  },
  {
   "cell_type": "code",
   "execution_count": 139,
   "metadata": {},
   "outputs": [],
   "source": [
    "X_new_counts = count_vect.transform(x_test)\n",
    "X_new_tfidf = tfidf_transformer.transform(X_new_counts)"
   ]
  },
  {
   "cell_type": "code",
   "execution_count": 140,
   "metadata": {},
   "outputs": [
    {
     "name": "stdout",
     "output_type": "stream",
     "text": [
      "{'una': 'DET', 'santa': 'NOUN', 'del': 'ADP', 'cielo': 'NOUN', 'que': 'PRON', 'escribe': 'VERB', 'el': 'DET', 'espaï¿½ol': 'NOUN', 'con': 'ADP', 'ortografï¿½a': 'NOUN', 'infierno': 'NOUN', 'NoW': '13', 'hlr': '0.0', 'ttr': '0.0', 'subordC': '0.0', 'CoordC': '0.0'} => teatro\n",
      "{'para': 'ADP', 'cuando': 'SCONJ', 'regrese': 'VERB', 'estarï¿½': 'AUX', 'usted': 'PRON', 'al': 'ADP', 'corriente': 'NOUN', 'de': 'ADP', 'todos': 'DET', 'los': 'DET', 'hechos': 'NOUN', 'y': 'CONJ', 'asï¿½': 'ADV', 'podremos': 'AUX', 'emprender': 'VERB', 'mejor': 'ADV', 'nuestras': 'DET', 'investigaciones': 'NOUN', 'NoW': '18', 'hlr': '0.0', 'ttr': '0.0', 'subordC': '0.05555555555555555', 'CoordC': '0.05555555555555555'} => terror\n",
      "{'van': 'VERB', 'helsing': 'NOUN', 'ha': 'AUX', 'ido': 'VERB', 'al': 'ADP', 'museo': 'NOUN', 'britï¿½nico': 'ADJ', 'buscando': 'VERB', 'a': 'ADP', 'ciertas': 'DET', 'autoridades': 'NOUN', 'de': 'ADP', 'medicina': 'NOUN', 'antigua': 'ADJ', 'NoW': '14', 'hlr': '0.0', 'ttr': '0.0', 'subordC': '0.0', 'CoordC': '0.0'} => terror\n",
      "{'habrï¿½a': 'AUX', 'gritado': 'VERB', 'de': 'ADP', 'ï¿½xtasis': 'NOUN', 'cuando': 'SCONJ', 'cenaba': 'VERB', 'a': 'ADP', 'solas': 'NOUN', 'con': 'ADP', 'algï¿½n': 'DET', 'estruendoso': 'NOUN', 'buen': 'ADJ', 'amigo': 'NOUN', 'pensando': 'VERB', 'en': 'ADP', 'lo': 'DET', 'pï¿½lido': 'NOUN', 'que': 'PRON', 'se': 'PRON', 'pondrï¿½a': 'VERB', 'y': 'CONJ', 'rï¿½pido': 'ADJ', 'escaparï¿½a': 'VERB', 'al': 'ADP', 'saber': 'AUX', 'el': 'DET', 'querido': 'ADJ', 'sentaba': 'VERB', 'cerca': 'ADV', 'ï¿½l': 'PRON', 'afilando': 'VERB', 'un': 'DET', 'cuchillo': 'NOUN', 'brillante': 'ADJ', 'reluciente': 'ADV', 'era': 'AUX', 'loco': 'NOUN', 'toda': 'DET', 'la': 'DET', 'capacidad': 'NOUN', 'mitad': 'NOUN', 'voluntad': 'NOUN', 'hundirlo': 'NOUN', 'su': 'DET', 'corazï¿½n': 'NOUN', 'NoW': '61', 'hlr': '0.0', 'ttr': '0.0', 'subordC': '0.032786885245901634', 'CoordC': '0.049180327868852465'} => terror\n",
      "{'si': 'SCONJ', 'esto': 'PRON', 'durara': 'VERB', 'yo': 'PRON', 'dudarï¿½a': 'VERB', 'de': 'ADP', 'la': 'DET', 'providencia': 'NOUN', 'que': 'PRON', 'arregla': 'VERB', 'a': 'ADP', 'las': 'DET', 'naciones': 'NOUN', 'como': 'SCONJ', 'da': 'VERB', 'aliento': 'NOUN', 'los': 'DET', 'individuos': 'NOUN', 'NoW': '19', 'hlr': '0.0039215686274509795', 'ttr': '0.0039215686274509795', 'subordC': '0.10526315789473684', 'CoordC': '0.0'} => novela\n"
     ]
    }
   ],
   "source": [
    "predicted = clf.predict(X_new_tfidf)\n",
    "\n",
    "for doc, category in zip(x_test, predicted[:5]):\n",
    "    print('%r => %s' % (doc, category)) # exchange[category]"
   ]
  },
  {
   "cell_type": "code",
   "execution_count": 141,
   "metadata": {},
   "outputs": [
    {
     "name": "stdout",
     "output_type": "stream",
     "text": [
      "Accuracy:  84.88311688311688\n"
     ]
    }
   ],
   "source": [
    "predicted = clf.predict(X_new_tfidf)\n",
    "print(\"Accuracy: \", np.mean(predicted == y_test)*100)"
   ]
  },
  {
   "cell_type": "code",
   "execution_count": 69,
   "metadata": {},
   "outputs": [
    {
     "name": "stdout",
     "output_type": "stream",
     "text": [
      "Realidad:  Counter({'teatro': 650, 'terror': 487, 'novela': 456, 'ensayo': 327, 'nan': 5})\n",
      "Predicciones:  Counter({'teatro': 733, 'novela': 481, 'terror': 432, 'ensayo': 279})\n"
     ]
    },
    {
     "data": {
      "text/plain": [
       "['ensayo', 'NaN', 'novela', 'teatro', 'terror']"
      ]
     },
     "execution_count": 69,
     "metadata": {},
     "output_type": "execute_result"
    }
   ],
   "source": [
    "import collections\n",
    "\n",
    "print(\"Realidad: \", collections.Counter(y_test))\n",
    "print(\"Predicciones: \", collections.Counter(predicted))\n",
    "labels=[\"ensayo\", \"NaN\", \"novela\", \"teatro\", \"terror\"]\n",
    "labels"
   ]
  },
  {
   "cell_type": "code",
   "execution_count": 68,
   "metadata": {},
   "outputs": [
    {
     "name": "stdout",
     "output_type": "stream",
     "text": [
      "Confusion matrix, without normalization\n"
     ]
    },
    {
     "data": {
      "image/png": "[encoded data removed]",
      "text/plain": [
       "<Figure size 432x288 with 1 Axes>"
      ]
     },
     "metadata": {
      "needs_background": "light"
     },
     "output_type": "display_data"
    }
   ],
   "source": [
    "from sklearn.metrics import confusion_matrix\n",
    "\n",
    "normalize = False\n",
    "\n",
    "cm = confusion_matrix(y_test, predicted)\n",
    "\n",
    "if normalize:\n",
    "    cm = cm.astype('float') / cm.sum(axis=1)[:, np.newaxis]\n",
    "    print(\"Normalized confusion matrix\")\n",
    "else:\n",
    "    print('Confusion matrix, without normalization')\n",
    "        \n",
    "fig, ax = plt.subplots()\n",
    "im = ax.imshow(cm, interpolation='nearest', cmap=plt.cm.Blues)\n",
    "ax.set(xticks=np.arange(cm.shape[1]),\n",
    "       yticks=np.arange(cm.shape[0]),\n",
    "       # ... and label them with the respective list entries\n",
    "       xticklabels=labels, yticklabels=labels,\n",
    "       title=\"Confusion matrix\",\n",
    "       ylabel='True label',\n",
    "       xlabel='Predicted label')\n",
    "\n",
    "# Loop over data dimensions and create text annotations.\n",
    "fmt = '.3f' if normalize else 'd'\n",
    "thresh = cm.max() / 2.\n",
    "for i in range(cm.shape[0]):\n",
    "    for j in range(cm.shape[1]):\n",
    "        ax.text(j, i, format(cm[i, j], fmt),\n",
    "                ha=\"center\", va=\"center\",\n",
    "                color=\"white\" if cm[i, j] > thresh else \"black\")\n",
    "fig.tight_layout()\n",
    "\n",
    "plt.show()"
   ]
  },
  {
   "cell_type": "code",
   "execution_count": null,
   "metadata": {},
   "outputs": [],
   "source": []
  },
  {
   "cell_type": "code",
   "execution_count": null,
   "metadata": {},
   "outputs": [],
   "source": [
    "# Accuracy:data:image/png;base64,iVBORw0KGgoAAAANSUhEUgAAASQAAAEWCAYAAADPS+pKAAAABHNCSVQICAgIfAhkiAAAAAlwSFlzAAALEgAACxIB0t1+/AAAADl0RVh0U29mdHdhcmUAbWF0cGxvdGxpYiB2ZXJzaW9uIDMuMC4yLCBodHRwOi8vbWF0cGxvdGxpYi5vcmcvOIA7rQAAGz9JREFUeJzt3Xm8VOWd5/HPV0ABIbigdlwQRXCNXgHXJLg7cZKondYYXKbVjIzaMePYSbvGVtNOtJ1Xj3EbhURRoxGN0aSN3WiciNEIssga94XW1igYNW4g4K//OE/FovreunW5tTyX+32/XvXinFNn+Z26VV+ec6qecxQRmJnlYJ1WF2BmVuJAMrNsOJDMLBsOJDPLhgPJzLLhQDKzbDiQrNskDZD0z5LelXRXN9ZznKQH6llbq0j6oqRnWl1HTyP/Dqn3kHQscBawA/AeMBe4NCIe7eZ6TwDOAPaNiJXdLjRzkgIYGRHPt7qWtY1bSL2EpLOAK4H/DWwGDAOuA46ow+q3Bp7tDWFUC0l9W11DjxURfqzlD2AI8D5wdJV51qMIrNfS40pgvfTc/sCrwN8CbwKvAyel5y4GPgZWpG18E7gI+EnZuocDAfRN4ycCL1K00l4Cjiub/mjZcvsCM4F307/7lj33MPB94LG0ngeAoR3sW6n+vyur/0jgvwLPAn8Eziubf0/gceCdNO81wLrpuUfSvnyQ9veYsvWfDfwBuLU0LS0zIm1jdBrfHFgK7N/q90Zuj5YX4EcT/sjwJWBlKRA6mOcSYDqwKbAJ8Dvg++m5/dPylwD90gf5Q2DD9HxlAHUYSMD6wJ+A7dNznwV2TsN/DiRgI+Bt4IS03Pg0vnF6/mHgBWAUMCCNX9bBvpXqvzDVfwqwBLgdGAzsDCwDtk3zjwH2TtsdDjwFnFm2vgC2a2f9l1ME+4DyQErznJLWMxCYCvyfVr8vcnz4kK132BhYGtUPqY4DLomINyNiCUXL54Sy51ek51dExP0UrYPt17CeT4BdJA2IiNcjYlE783wZeC4ibo2IlRHxU+Bp4Ktl89wUEc9GxEfAnUBblW2uoDhftgK4AxgK/DAi3kvbXwTsChARsyNietruy8ANwH417NPfR8TyVM9qImIS8BwwgyKEz+9kfb2SA6l3eAsY2sm5jc2BxWXji9O0P6+jItA+BAZ1tZCI+IDiMOdU4HVJv5K0Qw31lGraomz8D12o562IWJWGS4HxRtnzH5WWlzRK0n2S/iDpTxTn3YZWWTfAkohY1sk8k4BdgKsjYnkn8/ZKDqTe4XGKQ5Ijq8zzGsXJ6ZJhadqa+IDi0KTkL8qfjIipEXEIRUvhaYoPamf1lGr69zWsqSv+H0VdIyPiM8B5gDpZpurX1ZIGUZyX+zFwkaSN6lHo2saB1AtExLsU50+ulXSkpIGS+kk6TNI/ptl+ClwgaRNJQ9P8P1nDTc4FxkkaJmkIcG7pCUmbSTpc0vrAcopDv1XtrON+YJSkYyX1lXQMsBNw3xrW1BWDKc5zvZ9ab6dVPP8GsG0X1/lDYHZE/HfgV8D13a5yLeRA6iUi4p8ofoN0AcUJ3VeAbwH3pln+AZgFzAcWAHPStDXZ1oPAlLSu2aweIutQfFv3GsU3T/sBp7ezjreAr6R536L4huwrEbF0TWrqou8Ax1J8ezeJYl/KXQTcLOkdSV/vbGWSjqD4YuHUNOksYLSk4+pW8VrCP4w0s2y4hWRm2XAgmVk2HEhmlg0Hkpllo9d3AlTfAaF1B7e6jJq07Tis1SV0SWc/3MnNJz3o+52o/rOnrLzyb4t5a+nSmt4ODqR1B7Pe9p1+c5uFR353VatL6JK+fXpWA/yjj9v7OVSePulB6XnQuL1qnrdnvWPMbK3mQDKzbDiQzCwbDiQzy4YDycyy4UAys2w4kMwsGw4kM8uGA8nMsuFAMrNsOJDMLBsOJDPLhgPJzLLhQDKzbDiQzCwbDiQzy4YDycyy0eMDSdJkSUe1ug4z674eH0hmtvZoeCBJGi7pKUmTJC2S9ICkAZLaJE2XNF/SPZI2lLSjpCcqlp2fhsdImiZptqSpkj7bzrYulDRT0kJJEyX1tOvMm/VqzWohjQSujYidgXeAvwJuAc6OiF0p7iX/9xHxFLCupG3TcscAd0rqB1wNHBURY4AbgUvb2c41EbFHROwCDKC4N/x/ImmCpFmSZsXKj+q4m2bWHc0KpJciYm4ang2MADaIiGlp2s3AuDR8J1C6DcgxwBRge2AX4EFJc4ELgC3b2c4BkmZIWgAcCOzcXjERMTEixkbEWPUd0M1dM7N6adZtkJaXDa8CNqgy7xTgLkk/ByIinpP0OWBRROzT0UKS+gPXAWMj4hVJFwH9u1+6mTVLq05qvwu8LemLafwEYBpARLxAEVrfowgngGeATSTtAyCpn6TK1k8pfJZKGgT4mzezHqaVN4r8a+B6SQOBF4GTyp6bAlwBbAMQER+nr/avkjSEou4rgUWlBSLiHUmTKM5HvQzMbMZOmFn9KKLn3AGzEdYZuGn0lDvXLpnuO9c2ku9c2xgHjduLuXNm1/SNd896x5jZWs2BZGbZcCCZWTYcSGaWDQeSmWXDgWRm2XAgmVk2HEhmlg0Hkpllw4FkZtlwIJlZNhxIZpYNB5KZZcOBZGbZcCCZWTYcSGaWjVZeMTILbTsOY9pjPePCZ1+87OFWl9Alj59/YKtL6JLX3u45d6D5YHnPuZjc8hWf1DyvW0hmlg0Hkpllw4FkZtlwIJlZNhxIZpYNB5KZZcOBZGbZcCCZWTYcSGaWDQeSmWXDgWRm2XAgmVk2HEhmlg0Hkpllw4FkZtlwIJlZNhxIZpYNB5KZZcOBZGbZaGggSTpe0hOS5kq6QVIfSe9LulTSPEnTJW2W5j1a0sI0/ZE0bbik30qakx77pum3SjqibDu3STpcUn9JN0laIOlJSQc0cv/MrL4aFkiSdgSOAT4fEW3AKuA4YH1gekTsBjwCnJIWuRD4L2n64Wnam8AhETE6rat0Nf4fASel7QwB9gXuB/4GICI+B4wHbpbUv1H7aGb11cgW0kHAGGCmpLlpfFvgY+C+NM9sYHgafgyYLOkUoE+a1g+YJGkBcBewE0BETAO2k7QpRfDcHRErgS8At6Z5ngYWA6MqC5M0QdIsSbOWLllS1502szXXyNsgCbg5Is5dbaL0nYiINLqqVENEnCppL+DLwFxJbcAZwBvAbhThuaxsVbdStLi+AZxcts1ORcREYCLA6DFjo5PZzaxJGtlCegg4KrVikLSRpK07mlnSiIiYEREXAkuBrYAhwOsR8QlwAp+2nAAmA2cCRMSiNO0RipBC0ihgGPBMPXfKzBqnYS2kiPi9pAuAByStA6wgnePpwBWSRlK0ch4C5gHXAXdLOhr4DfBB2frfkPQUcG/ZOq4Drk+HeCuBEyNieT33y8wap6F3ro2IKcCUismDyp7/GfCzNPy1dlbxHLBr2fifD/8kDQRGAj8tW98y4MTu1m1mrdEjf4ck6WDgaeDqiHi31fWYWX00tIXUKBHxa4rzQ2a2FumRLSQzWzs5kMwsGw4kM8uGA8nMsuFAMrNsOJDMLBsOJDPLhgPJzLLhQDKzbDiQzCwbDiQzy4YDycyy4UAys2x02Ntf0meqLRgRf6p/OWbWm1W7/MgiIFj9OtWl8WAtufzH3OffZNO/urbVZdTk7V+c0eoS1moffbyq1SXUbNdhQ1pdQs0Grtun85mSDgMpIraqSzVmZjWq6RySpG9IOi8NbylpTGPLMrPeqNNAknQNcADFXT8APgSub2RRZtY71XIJ230jYrSkJwEi4o+S1m1wXWbWC9VyyLYi3cYoACRtDHzS0KrMrFeqJZCuBe4GNpF0MfAocHlDqzKzXqnTQ7aIuEXSbODgNOnoiFjY2LLMrDeq9TZIfSjuPBv4191m1iC1fMt2PsXdYTcHtgRul3Ru9aXMzLqulhbS8cCYiPgQQNKlwGzgB40szMx6n1oOvxazenD1BV5sTDlm1ptV61z7fynOGX0ILJI0NY0fSvFNm5lZXVU7ZCt9k7YI+FXZ9OmNK8fMerNqnWt/3MxCzMw6PaktaQRwKbAT0L80PSJGNbAuM+uFajmpPRm4ieI6SIcBdwJ3NLAmM+ulagmkgRExFSAiXoiICyh6/5uZ1VUtv0NaLknAC5JOBf4d2LSxZZlZb1RLC+l/AYOAbwOfB04BTm5kUd0h6UuSnpH0vKRzWl2PmdWuls61M9Lge3x6kbYsSepDcXWCQ4BXgZmSfhkRv29tZWZWi2o/jLyHdA2k9kTE1xpSUffsCTwfES8CSLoDOAJwIJn1ANVaSNc0rYr62QJ4pWz8VWCvypkkTQAmANB/w6YUZmadq/bDyIeaWUidqJ1p/6mVFxETgYkA6wwZ1mEr0Myaa227ttGrQPntm7YEXmtRLWbWRWtbIM0ERkraJt2I4BvAL1tck5nVqNYrRiJpvYhY3shiuisiVkr6FjCV4iqXN0bEohaXZWY1quWKkXtKWgA8l8Z3k3R1wytbQxFxf0SMiogREXFpq+sxs9rVcsh2FfAV4C2AiJiHu46YWQPUEkjrRMTiimmrGlGMmfVutZxDekXSnkCkX0KfATzb2LLMrDeqpYV0GnAWMAx4A9g7TTMzq6ta+rK9SfH1uZlZQ9VyxchJtP9r5wkNqcjMeq1aziH9umy4P/CXrN5fzMysLmo5ZJtSPi7pVuDBhlVkZr3WmnQd2QbYut6FmJnVcg7pbT49h7QO8EfAV2I0s7qrGkjpWtq7UVxHG+CTiPDlOsysIaoesqXwuSciVqWHw8jMGqaWc0hPSBrd8ErMrNerdk3tvhGxEvgCcIqkF4APKK7KGBHhkDKzuqp2DukJYDRwZJNqMbNerlogCYq71TapFjPr5aoF0iaSzuroyYj4pwbU03Rt223Ko/d8q9Vl1OS1tz9qdQldsvmGA1pdQpccc81jrS6hZrefvm+rS6jZhx/XfrWiaoHUh+KOte3dycPMrO6qBdLrEXFJ0yoxs16v2tf+bhmZWVNVC6SDmlaFmRlVAiki/tjMQszM1rYbRZpZD+ZAMrNsOJDMLBsOJDPLhgPJzLLhQDKzbDiQzCwbDiQzy4YDycyy4UAys2w4kMwsGw4kM8tGUwNJ0gaSTu/G8ufVsx4zy0uzW0gbAGscSEC7gaSCW3tmPVyzP8SXASMkzZV0haTvSpopab6ki0szSbpX0mxJiyRNSNMuAwakZW+TNFzSU5KuA+YAW0kaL2mBpIWSLm/yvplZNzU7kM4BXoiINuBBYCSwJ9AGjJE0Ls13ckSMAcYC35a0cUScA3wUEW0RcVyab3vglojYHVgBXA4cmNa3hyTfwsmsB2nlYc6h6fEkRQtnB4qAgiKE5gHTga3KpldaHBHT0/AewMMRsSTd4PI2YFx7C0maIGmWpFlLly6pz96YWbdVu8h/own4QUTcsNpEaX/gYGCfiPhQ0sNA/w7W8UHF+moSEROBiQCjx4yNLtRsZg3U7BbSe8DgNDwVOFnSIABJW0jaFBgCvJ3CaAdg77LlV0jq18G6ZwD7SRoqqQ8wHpjWkL0ws4ZoaiBFxFvAY5IWAocAtwOPS1oA/IwirP4V6CtpPvB9isO2konAfEm3tbPu14Fzgd8A84A5EfGLRu6PmdVX0w/ZIuLYikk/bGe2wzpY9mzg7LJJu1Q8fztFyJlZD+Tf7phZNhxIZpYNB5KZZcOBZGbZcCCZWTYcSGaWDQeSmWXDgWRm2XAgmVk2HEhmlg0Hkpllw4FkZtlwIJlZNhxIZpYNB5KZZcOBZGbZaOU1tbPRUy6q3a+P//9opOkXHdLqEmo27KuXtbqEmi1/+c2a5/U73Myy4UAys2w4kMwsGw4kM8uGA8nMsuFAMrNsOJDMLBsOJDPLhgPJzLLhQDKzbDiQzCwbDiQzy4YDycyy4UAys2w4kMwsGw4kM8uGA8nMsuFAMrNstCSQJG0g6fRWbNvM8tWqFtIGQM2BpMI6FdP61LhsTfOZWeu1KpAuA0ZImivpCknflTRT0nxJFwNIGi7pKUnXAXOArSS9L+kSSTOAfSQdJOlJSQsk3ShpvbTsy5IulPQocHSL9tHMuqhVgXQO8EJEtAEPAiOBPYE2YIykcWm+7YFbImL3iFgMrA8sjIi9gFnAZOCYiPgcxR1UTivbxrKI+EJE3FG5cUkTJM2SNGvp0iUN2kUz66ocTmofmh5PUrSEdqAIKIDFETG9bN5VwN1peHvgpYh4No3fDIwrm3dKRxuMiIkRMTYixg4dukkddsHM6iGH+7IJ+EFE3LDaRGk48EHFvMsiYlXZctVULmtmmWtVC+k9YHAangqcLGkQgKQtJG1awzqeBoZL2i6NnwBMq3ulZtY0LWkhRcRbkh6TtBD4F+B24HFJAO8Dx1McnlVbxzJJJwF3SeoLzASub2zlZtZILTtki4hjKyb9sJ3ZdqlYZlDF+EPA7u2se3h36zOz5svhpLaZGeBAMrOMOJDMLBsOJDPLhgPJzLLhQDKzbDiQzCwbDiQzy4YDycyy4UAys2w4kMwsGw4kM8uGA8nMsuFAMrNsOJDMLBsOJDPLhiKi1TW0lKQlwOIGrHoosLQB622EnlQr9Kx6e1Kt0Jh6t46Imu6m0esDqVEkzYqIsa2uoxY9qVboWfX2pFqh9fX6kM3MsuFAMrNsOJAaZ2KrC+iCnlQr9Kx6e1Kt0OJ6fQ7JzLLhFpKZZcOBZGbZcCC1iKTJko5qdR09iaQvSXpG0vOSzmnidjeQdHo3lj+vnvXUuM1u1dwqDiTrEST1Aa4FDgN2AsZL2qlJm98A6M6Hu91AUqFRn8Eu1dxeLek1r2XZmuarhQOpA5KGS3pK0iRJiyQ9IGmApDZJ0yXNl3SPpA0l7SjpiYpl56fhMZKmSZotaaqkz7azrQslzZS0UNJESepircdLekLSXEk3SOoj6X1Jl0qal+rdLM17dNrOPEmPlNX7W0lz0mPfNP1WSUeUbec2SYdL6i/pJkkLJD0p6YA1e5W7ZE/g+Yh4MSI+Bu4AjuhkmXq5DBiRXt8rJH03/b3mS7q4NJOke9PfeZGkCWnaZcCAtOxtZe+r64A5wFaSxqfXcqGky5tVcwe1vC/pEkkzgH0kHZT+xgsk3ShpvbTsy+l9+yhwdJ1qhojwo50HMBxYCbSl8TuB44H5wH5p2iXAlWl4LrBtGj4buADoB/wO2CRNPwa4MQ1PBo5KwxuVbfdW4KtdqHNH4J+Bfmn8OuC/AVFaD/CPwAVpeAGwRRreIP07EOifhkcCs9LwfsC9aXgI8BLQF/hb4KY0fQfg30rLN/DvcRTwo7LxE4BrmvheWJiGD6X4alwU/6HfB4wr/zsCA4CFwMZp/P2KdX0C7J3GN0+v3ybptf3/wJHNqLmyljRvAF9Pw/2BV4BRafwW4Mw0/DLwd/V+rd1Cqu6liJibhmcDIyg+xNPStJsp/rBQBNbX0/AxwBRge2AX4EFJcylCast2tnOApBmSFgAHAjt3ocaDgDHAzLSNg4BtgY8p3nil2oen4ceAyZJOAUpN7X7ApLT9uygOiUj7uZ2kTYHxwN0RsRL4AkVwEhFPU/QFHNWFmtdEe63GVvxm5dD0eJKiVbEDRYgDfFvSPGA6sFXZ9EqLI2J6Gt4DeDgilqTX9jY+fU81o+byWgBWAXen4e0pPgPPpvHy9zsU7/G66lvvFa5llpcNr6I4Lu/IFOAuST8HIiKek/Q5YFFE7NPRQpL6U7RqxkbEK5IuovifqVYCbo6IcyvW+51I/5Wl2vtSFHaqpL2ALwNzJbUBZwBvALtR/A+6rGxVtwLHAd8ATi7bZrO9SvEhL9kSeK0FdQj4QUTcsNpEaX/gYGCfiPhQ0sN0/Hf8oGJ9jdZRzcMragFYFhGryparpnLZbnMLqWveBd6W9MU0fgIwDSAiXqD44H+PT//neAbYRNI+AJL6Saps/ZTetEslDaI4NOmKh4CjUisGSRtJ2rqjmSWNiIgZEXEhRa/urSgOx16PiE/SPpWfpJwMnJn2cVGa9ghFSCFpFDAs7WsjzQRGStpG0roUAfnLBm+z5D1gcBqeCpyc/lZI2iK99kOAt1MY7QDsXbb8Ckn9Olj3DGA/SUNVnBweT3pPNaHmzjwNDJe0XRr/8/u9UdxC6rq/Bq6XNBB4ETip7LkpwBXANgAR8bGKr/avkjSE4vW+Eih9sImIdyRNoji38zLFB69mEfF7SRcAD6j4lmQF8DdVFrlC0kiK//0eAuZRtNDulnQ08BvK/ueLiDckPQXcW7aO69JrsIDiPNuJEVHemqy7iFgp6VsUH64+FOfiFnWyWL22/ZakxyQtBP4FuB14PH338D7FucV/BU5V8WXGMxSHbSUTgfmS5gDnV6z7dUnnUrzuAu6PiF80qeZVVVZBRCyTdBJFy78vxXvz+u7WVo27jlhVKXgXAKMj4t1W12NrNx+yWYckHUzRbL/aYWTN4BaSmWXDLSQzy4YDycyy4UAys2w4kKwqSatSf6iFku5K37qt6br2l3RfGj5cVXrsaw17q0u6SNJ3ap1eMU+XrsCQ+oIt7GqN1jEHknXmo4hoi4hdKLqjnFr+pApdfh9FxC8j4rIqs3S3h731QA4k64rfUvRta6+X+KGSHldxtYC7yn4V/CVJT6de4V8rrUjSiZKuScObqbhywrz02JeK3uppvo562Z+v4jpJv6bof1WVpFPSeuZJurui1XewiisfPCvpK2n+Pip6zJe2/T+6+0Ja+xxIVpP0S93DKH4kCcUH/5aI2J3il90XAAdHxGhgFnBW6qc3Cfgq8EXgLzpY/VXAtIjYDRhN8Uv2c4AXUuvsu5IOpegQuifQBoyRNE7SGIpuJLtTBN4eNezOzyNij7S9p4Bvlj03nOIqB1+m+DV6//T8uxGxR1r/KZK2qWE71kXuOmKdGaDiKgJQtJB+THHJjPJe4ntTXCHgsdQ1YV3gcYpe5S9FxHMAkn4CTGhnGwdSXDKF1LHzXUkbVsxT3mMdYBBFQA0G7omID9M2aunftoukf6A4LBxE0R2l5M7Up+85SS+mfTgU2LXs/NKQtO1nsbpyIFlnPoqItvIJKXQqe6w/GBHjK+Zro36XCOmox/qZa7CNyRTXHJon6URg/7LnKtcVadtnRER5cJV6y1sd+ZDN6mE68PlSr3BJA9NVAJ4GtpE0Is03voPlHwJOS8v2kfQZVu+tDh33WH8E+EsVV/McTHF42JnBwOupB/5xFc8dLWmdVPO2FB1lpwKnpfmRNErS+jVsx7rILSTrtohYkloaP1W6xCnFFSqfVXEp119JWgo8SnHBukr/E5go6ZsUPdBPi4jHy3urp/NIO1LRYz0i5kiaQnHFzsUUh5Wd+R7FZT8WU5wTKw++ZygusbEZcGrq8f4jinNLc1RsfAlwZG2vjnWF+7KZWTZ8yGZm2XAgmVk2HEhmlg0Hkpllw4FkZtlwIJlZNhxIZpaN/wCapMxIAPYhkAAAAABJRU5ErkJggg==\n",
    "\n",
    "# LRG                                                     - DICT VECTORISER\n",
    "# LRG - X[text]                      :  69.26406926406926 \n",
    "# LRG - X[text, text_pos]            :  69.04761904761905 - 71.58\n",
    "\n",
    "# SVM\n",
    "# SVM - X[text]                      :  73.54978354978356\n",
    "# SVM - X[text, text_pos]            :  73.93939393939394 - 75.16\n",
    "# SVM - X[full_text - with_features] :                    - 84.88\n",
    "\n",
    "# Poner otros numeros no beneficia\n",
    "\n",
    "# MNB\n",
    "# MNB - X[text]                      :  66.70995670995671\n",
    "# MNB - X[text, text_pos]            :  62.33766233766234 - 67.84\n",
    "\n",
    "# T-G - X[text, text_pos]            :  ///////////////// - 50.7\n",
    "# T-E - X[text, text_pos]            :  ///////////////// - 47.896"
   ]
  }
 ],
 "metadata": {
  "kernelspec": {
   "display_name": "Python 3",
   "language": "python",
   "name": "python3"
  },
  "language_info": {
   "codemirror_mode": {
    "name": "ipython",
    "version": 3
   },
   "file_extension": ".py",
   "mimetype": "text/x-python",
   "name": "python",
   "nbconvert_exporter": "python",
   "pygments_lexer": "ipython3",
   "version": "3.6.7"
  }
 },
 "nbformat": 4,
 "nbformat_minor": 2
}
