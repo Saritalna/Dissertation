{
 "cells": [
  {
   "cell_type": "code",
   "execution_count": 31,
   "metadata": {},
   "outputs": [],
   "source": [
    "# Este archivo compara la frecuencia relativa de nombres y pronombres\n",
    "import numpy as np\n",
    "import pandas as pd\n",
    "\n",
    "import nltk, re, pprint\n",
    "from nltk import word_tokenize\n",
    "import nltk\n",
    "import spacy\n",
    "from nltk.tokenize import sent_tokenize, word_tokenize\n",
    "from spacy.pipeline import SentenceSegmenter\n",
    "from nltk.probability import FreqDist\n",
    "\n",
    "import spacy\n",
    "nlp = spacy.load('es_core_news_sm')\n",
    "\n",
    "# Archivos de entrada y salida\n",
    "input_file  = \"with_features.csv\" # cogemos un input de prueba\n",
    "output_file = \"with_features_modified.csv\" # el archivo donde se guardaran las frecuencias\n",
    "\n",
    "\n",
    "def count_verbs(sentence):\n",
    "    mood_ind  = 0\n",
    "    mood_sub  = 0\n",
    "    mood_cnd  = 0\n",
    "    mood_imp  = 0\n",
    "    verbs = 0\n",
    "    \n",
    "    pron_pers = 0\n",
    "    pron_rel  = 0\n",
    "    prons = 0\n",
    "\n",
    "    # sentences = nltk.sent_tokenize(text)\n",
    "    for token in nlp(sentence):\n",
    "        tag = token.tag_.split(\"_\")[0]\n",
    "            # print(\"hi4\")\n",
    "            # contar si es pronombre personal \n",
    "        # print(tag, token.text, token.pos_, token.tag_)\n",
    "        if tag ==  \"VERB\":\n",
    "            if \"Mood=Ind\" in token.tag_:\n",
    "                mood_ind += 1\n",
    "                verbs += 1\n",
    "            elif \"Mood=Imp\" in token.tag_:\n",
    "                mood_imp += 1\n",
    "                verbs += 1\n",
    "            elif \"Mood=Sub\" in token.tag_:\n",
    "                mood_sub += 1\n",
    "                verbs += 1\n",
    "            elif \"Mood=Cnd\" in token.tag_:\n",
    "                mood_cnd += 1\n",
    "            else: \n",
    "                verbs += 1\n",
    "        elif token.pos_ ==  \"PRON\":\n",
    "            if \"PronType\" in token.tag_ and \"Prs\" in token.tag_: \n",
    "                pron_pers += 1\n",
    "            elif \"Rel\" in token.tag_:\n",
    "                pron_rel += 1\n",
    "            prons += 1\n",
    "                \n",
    "            \n",
    "                        \n",
    "    return mood_ind, mood_sub, mood_cnd, mood_imp, verbs, pron_pers, pron_rel , prons"
   ]
  },
  {
   "cell_type": "code",
   "execution_count": 32,
   "metadata": {},
   "outputs": [],
   "source": [
    "df = pd.read_csv('with_features.csv', sep=\",\", encoding=\"Latin-1\")"
   ]
  },
  {
   "cell_type": "code",
   "execution_count": 33,
   "metadata": {},
   "outputs": [
    {
     "data": {
      "text/plain": [
       "7700"
      ]
     },
     "execution_count": 33,
     "metadata": {},
     "output_type": "execute_result"
    }
   ],
   "source": [
    "len(df[\"processed\"].values)"
   ]
  },
  {
   "cell_type": "code",
   "execution_count": 36,
   "metadata": {},
   "outputs": [
    {
     "name": "stdout",
     "output_type": "stream",
     "text": [
      "Done up to -  0\n",
      "Done up to -  200\n",
      "Done up to -  400\n",
      "Done up to -  600\n",
      "Done up to -  800\n",
      "Done up to -  1000\n",
      "Done up to -  1200\n",
      "Done up to -  1400\n",
      "Done up to -  1600\n",
      "Done up to -  1800\n",
      "Done up to -  2000\n",
      "Done up to -  2200\n",
      "Done up to -  2400\n",
      "Done up to -  2600\n",
      "Done up to -  2800\n",
      "Done up to -  3000\n",
      "Done up to -  3200\n",
      "Done up to -  3400\n",
      "Done up to -  3600\n",
      "Done up to -  3800\n",
      "Done up to -  4000\n",
      "Done up to -  4200\n",
      "Done up to -  4400\n",
      "Done up to -  4600\n",
      "Done up to -  4800\n",
      "Done up to -  5000\n",
      "Done up to -  5200\n",
      "Done up to -  5400\n",
      "Done up to -  5600\n",
      "Done up to -  5800\n",
      "Done up to -  6000\n",
      "Done up to -  6200\n",
      "Done up to -  6400\n",
      "Done up to -  6600\n",
      "Done up to -  6800\n",
      "Done up to -  7000\n",
      "Done up to -  7200\n",
      "Done up to -  7400\n",
      "Done up to -  7600\n"
     ]
    }
   ],
   "source": [
    "modos = {\"mood_ind\": [], \"mood_sub\": [], \"mood_cnd\": [], \"mood_imp\": [], \"verbs\": [],\n",
    "         \"pron_pers\": [], \"pron_rel\": [], \"prons\": []}\n",
    "\n",
    "for i, sentence in enumerate(df[\"processed\"].values):\n",
    "    mood_ind, mood_sub, mood_cnd, mood_imp, verbs, pron_pers, pron_rel, prons = count_verbs(sentence)\n",
    "    # append result to modos\n",
    "    modos[\"mood_ind\"].append(mood_ind)\n",
    "    modos[\"mood_sub\"].append(mood_sub)\n",
    "    modos[\"mood_cnd\"].append(mood_cnd)\n",
    "    modos[\"mood_imp\"].append(mood_imp)\n",
    "    modos[\"verbs\"] .append(verbs)\n",
    "    modos[\"pron_pers\"].append(pron_pers)\n",
    "    modos[\"pron_rel\"].append(pron_rel)\n",
    "    modos[\"prons\"] .append(prons)\n",
    "    \n",
    "    if i%200 == 0:\n",
    "        print(\"Done up to - \", i)"
   ]
  },
  {
   "cell_type": "code",
   "execution_count": 39,
   "metadata": {},
   "outputs": [],
   "source": [
    "for key in modos.keys():\n",
    "    df[key] = np.array(modos[key])"
   ]
  },
  {
   "cell_type": "code",
   "execution_count": 40,
   "metadata": {},
   "outputs": [],
   "source": [
    "df.to_csv(output_file, sep=\",\", encoding=\"latin1\")"
   ]
  },
  {
   "cell_type": "code",
   "execution_count": null,
   "metadata": {},
   "outputs": [],
   "source": []
  },
  {
   "cell_type": "code",
   "execution_count": null,
   "metadata": {},
   "outputs": [],
   "source": []
  },
  {
   "cell_type": "code",
   "execution_count": null,
   "metadata": {},
   "outputs": [],
   "source": []
  },
  {
   "cell_type": "code",
   "execution_count": null,
   "metadata": {},
   "outputs": [],
   "source": []
  },
  {
   "cell_type": "code",
   "execution_count": null,
   "metadata": {},
   "outputs": [],
   "source": []
  },
  {
   "cell_type": "code",
   "execution_count": null,
   "metadata": {},
   "outputs": [],
   "source": []
  },
  {
   "cell_type": "code",
   "execution_count": null,
   "metadata": {},
   "outputs": [],
   "source": []
  },
  {
   "cell_type": "code",
   "execution_count": null,
   "metadata": {},
   "outputs": [],
   "source": []
  },
  {
   "cell_type": "code",
   "execution_count": null,
   "metadata": {},
   "outputs": [],
   "source": []
  },
  {
   "cell_type": "code",
   "execution_count": null,
   "metadata": {},
   "outputs": [],
   "source": []
  },
  {
   "cell_type": "code",
   "execution_count": null,
   "metadata": {},
   "outputs": [],
   "source": []
  },
  {
   "cell_type": "code",
   "execution_count": null,
   "metadata": {},
   "outputs": [],
   "source": []
  },
  {
   "cell_type": "code",
   "execution_count": null,
   "metadata": {},
   "outputs": [],
   "source": []
  },
  {
   "cell_type": "code",
   "execution_count": null,
   "metadata": {},
   "outputs": [],
   "source": []
  },
  {
   "cell_type": "code",
   "execution_count": null,
   "metadata": {},
   "outputs": [],
   "source": []
  },
  {
   "cell_type": "code",
   "execution_count": null,
   "metadata": {},
   "outputs": [],
   "source": []
  }
 ],
 "metadata": {
  "kernelspec": {
   "display_name": "Python 3",
   "language": "python",
   "name": "python3"
  },
  "language_info": {
   "codemirror_mode": {
    "name": "ipython",
    "version": 3
   },
   "file_extension": ".py",
   "mimetype": "text/x-python",
   "name": "python",
   "nbconvert_exporter": "python",
   "pygments_lexer": "ipython3",
   "version": "3.6.7"
  }
 },
 "nbformat": 4,
 "nbformat_minor": 2
}
